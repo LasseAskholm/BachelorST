{
 "cells": [
  {
   "cell_type": "code",
   "execution_count": 1,
   "metadata": {},
   "outputs": [],
   "source": [
    "\n",
    "import matplotlib as plt\n",
    "from inference.bertInference import getPredictions,getValData\n",
    "from analysis.DataStatistics import get_truth, calc_metrics\n",
    "from sklearn import metrics\n",
    "from sklearn.metrics import confusion_matrix, ConfusionMatrixDisplay\n",
    "from mlxtend.plotting import plot_confusion_matrix\n",
    "import pandas as pd\n",
    "import numpy as np\n",
    "\n",
    "labels = ['Organisation','Person','Location','Money','Temporal','Weapon','MilitaryPlatform','O']\n",
    "extended_labels = ['Location','Quantity', 'Nationality', 'MilitaryPlatform', 'Temporal', 'Person', 'Organisation', 'Vehicle', 'Weapon','O']"
   ]
  },
  {
   "cell_type": "code",
   "execution_count": 15,
   "metadata": {},
   "outputs": [],
   "source": [
    "gen_data_path = \"../../data/selv-labeled-data/ValData/ValGEN.txt\"\n",
    "gen_conll_path = \"../../data/selv-labeled-data/ValData/valgen.conll\"\n",
    "valDataGeneral = getValData(gen_data_path)\n",
    "\n",
    "#Get predictions and truth vectors, label list\n",
    "prediction_json = \"../inference/Predictions/Bert/B07/bertPredictionsB07.json\"\n",
    "predictions = getPredictions(prediction_json, data = valDataGeneral)\n",
    "print(predictions.to_string())\n",
    "prediction_vector = predictions['ner_tags'].tolist()\n",
    "\n",
    "truth_set = get_truth(gen_conll_path)\n",
    "#print(truth_set.to_string())\n",
    "truth_vector = truth_set['ner_tags'].tolist()\n"
   ]
  },
  {
   "cell_type": "code",
   "execution_count": 16,
   "metadata": {},
   "outputs": [
    {
     "ename": "ValueError",
     "evalue": "Found input variables with inconsistent numbers of samples: [379, 380]",
     "output_type": "error",
     "traceback": [
      "\u001b[1;31m---------------------------------------------------------------------------\u001b[0m",
      "\u001b[1;31mValueError\u001b[0m                                Traceback (most recent call last)",
      "\u001b[1;32mc:\\Git\\BachelorST\\src\\lillevalidation\\validation.ipynb Cell 3\u001b[0m line \u001b[0;36m1\n\u001b[1;32m----> <a href='vscode-notebook-cell:/c%3A/Git/BachelorST/src/lillevalidation/validation.ipynb#W2sZmlsZQ%3D%3D?line=0'>1</a>\u001b[0m confusion_matrix_gen \u001b[39m=\u001b[39m confusion_matrix(truth_vector,prediction_vector, labels \u001b[39m=\u001b[39m labels)\n\u001b[0;32m      <a href='vscode-notebook-cell:/c%3A/Git/BachelorST/src/lillevalidation/validation.ipynb#W2sZmlsZQ%3D%3D?line=2'>3</a>\u001b[0m fig, ax \u001b[39m=\u001b[39m plot_confusion_matrix(\n\u001b[0;32m      <a href='vscode-notebook-cell:/c%3A/Git/BachelorST/src/lillevalidation/validation.ipynb#W2sZmlsZQ%3D%3D?line=3'>4</a>\u001b[0m     conf_mat\u001b[39m=\u001b[39mconfusion_matrix_gen,\n\u001b[0;32m      <a href='vscode-notebook-cell:/c%3A/Git/BachelorST/src/lillevalidation/validation.ipynb#W2sZmlsZQ%3D%3D?line=4'>5</a>\u001b[0m     class_names\u001b[39m=\u001b[39mlabels,\n\u001b[0;32m      <a href='vscode-notebook-cell:/c%3A/Git/BachelorST/src/lillevalidation/validation.ipynb#W2sZmlsZQ%3D%3D?line=5'>6</a>\u001b[0m     norm_colormap\u001b[39m=\u001b[39mplt\u001b[39m.\u001b[39mcolors\u001b[39m.\u001b[39mLogNorm()\n\u001b[0;32m      <a href='vscode-notebook-cell:/c%3A/Git/BachelorST/src/lillevalidation/validation.ipynb#W2sZmlsZQ%3D%3D?line=6'>7</a>\u001b[0m )\n",
      "File \u001b[1;32mc:\\conda\\Lib\\site-packages\\sklearn\\utils\\_param_validation.py:214\u001b[0m, in \u001b[0;36mvalidate_params.<locals>.decorator.<locals>.wrapper\u001b[1;34m(*args, **kwargs)\u001b[0m\n\u001b[0;32m    208\u001b[0m \u001b[39mtry\u001b[39;00m:\n\u001b[0;32m    209\u001b[0m     \u001b[39mwith\u001b[39;00m config_context(\n\u001b[0;32m    210\u001b[0m         skip_parameter_validation\u001b[39m=\u001b[39m(\n\u001b[0;32m    211\u001b[0m             prefer_skip_nested_validation \u001b[39mor\u001b[39;00m global_skip_validation\n\u001b[0;32m    212\u001b[0m         )\n\u001b[0;32m    213\u001b[0m     ):\n\u001b[1;32m--> 214\u001b[0m         \u001b[39mreturn\u001b[39;00m func(\u001b[39m*\u001b[39margs, \u001b[39m*\u001b[39m\u001b[39m*\u001b[39mkwargs)\n\u001b[0;32m    215\u001b[0m \u001b[39mexcept\u001b[39;00m InvalidParameterError \u001b[39mas\u001b[39;00m e:\n\u001b[0;32m    216\u001b[0m     \u001b[39m# When the function is just a wrapper around an estimator, we allow\u001b[39;00m\n\u001b[0;32m    217\u001b[0m     \u001b[39m# the function to delegate validation to the estimator, but we replace\u001b[39;00m\n\u001b[0;32m    218\u001b[0m     \u001b[39m# the name of the estimator by the name of the function in the error\u001b[39;00m\n\u001b[0;32m    219\u001b[0m     \u001b[39m# message to avoid confusion.\u001b[39;00m\n\u001b[0;32m    220\u001b[0m     msg \u001b[39m=\u001b[39m re\u001b[39m.\u001b[39msub(\n\u001b[0;32m    221\u001b[0m         \u001b[39mr\u001b[39m\u001b[39m\"\u001b[39m\u001b[39mparameter of \u001b[39m\u001b[39m\\\u001b[39m\u001b[39mw+ must be\u001b[39m\u001b[39m\"\u001b[39m,\n\u001b[0;32m    222\u001b[0m         \u001b[39mf\u001b[39m\u001b[39m\"\u001b[39m\u001b[39mparameter of \u001b[39m\u001b[39m{\u001b[39;00mfunc\u001b[39m.\u001b[39m\u001b[39m__qualname__\u001b[39m\u001b[39m}\u001b[39;00m\u001b[39m must be\u001b[39m\u001b[39m\"\u001b[39m,\n\u001b[0;32m    223\u001b[0m         \u001b[39mstr\u001b[39m(e),\n\u001b[0;32m    224\u001b[0m     )\n",
      "File \u001b[1;32mc:\\conda\\Lib\\site-packages\\sklearn\\metrics\\_classification.py:326\u001b[0m, in \u001b[0;36mconfusion_matrix\u001b[1;34m(y_true, y_pred, labels, sample_weight, normalize)\u001b[0m\n\u001b[0;32m    231\u001b[0m \u001b[39m@validate_params\u001b[39m(\n\u001b[0;32m    232\u001b[0m     {\n\u001b[0;32m    233\u001b[0m         \u001b[39m\"\u001b[39m\u001b[39my_true\u001b[39m\u001b[39m\"\u001b[39m: [\u001b[39m\"\u001b[39m\u001b[39marray-like\u001b[39m\u001b[39m\"\u001b[39m],\n\u001b[1;32m   (...)\u001b[0m\n\u001b[0;32m    242\u001b[0m     y_true, y_pred, \u001b[39m*\u001b[39m, labels\u001b[39m=\u001b[39m\u001b[39mNone\u001b[39;00m, sample_weight\u001b[39m=\u001b[39m\u001b[39mNone\u001b[39;00m, normalize\u001b[39m=\u001b[39m\u001b[39mNone\u001b[39;00m\n\u001b[0;32m    243\u001b[0m ):\n\u001b[0;32m    244\u001b[0m \u001b[39m    \u001b[39m\u001b[39m\"\"\"Compute confusion matrix to evaluate the accuracy of a classification.\u001b[39;00m\n\u001b[0;32m    245\u001b[0m \n\u001b[0;32m    246\u001b[0m \u001b[39m    By definition a confusion matrix :math:`C` is such that :math:`C_{i, j}`\u001b[39;00m\n\u001b[1;32m   (...)\u001b[0m\n\u001b[0;32m    324\u001b[0m \u001b[39m    (0, 2, 1, 1)\u001b[39;00m\n\u001b[0;32m    325\u001b[0m \u001b[39m    \"\"\"\u001b[39;00m\n\u001b[1;32m--> 326\u001b[0m     y_type, y_true, y_pred \u001b[39m=\u001b[39m _check_targets(y_true, y_pred)\n\u001b[0;32m    327\u001b[0m     \u001b[39mif\u001b[39;00m y_type \u001b[39mnot\u001b[39;00m \u001b[39min\u001b[39;00m (\u001b[39m\"\u001b[39m\u001b[39mbinary\u001b[39m\u001b[39m\"\u001b[39m, \u001b[39m\"\u001b[39m\u001b[39mmulticlass\u001b[39m\u001b[39m\"\u001b[39m):\n\u001b[0;32m    328\u001b[0m         \u001b[39mraise\u001b[39;00m \u001b[39mValueError\u001b[39;00m(\u001b[39m\"\u001b[39m\u001b[39m%s\u001b[39;00m\u001b[39m is not supported\u001b[39m\u001b[39m\"\u001b[39m \u001b[39m%\u001b[39m y_type)\n",
      "File \u001b[1;32mc:\\conda\\Lib\\site-packages\\sklearn\\metrics\\_classification.py:84\u001b[0m, in \u001b[0;36m_check_targets\u001b[1;34m(y_true, y_pred)\u001b[0m\n\u001b[0;32m     57\u001b[0m \u001b[39mdef\u001b[39;00m \u001b[39m_check_targets\u001b[39m(y_true, y_pred):\n\u001b[0;32m     58\u001b[0m \u001b[39m    \u001b[39m\u001b[39m\"\"\"Check that y_true and y_pred belong to the same classification task.\u001b[39;00m\n\u001b[0;32m     59\u001b[0m \n\u001b[0;32m     60\u001b[0m \u001b[39m    This converts multiclass or binary types to a common shape, and raises a\u001b[39;00m\n\u001b[1;32m   (...)\u001b[0m\n\u001b[0;32m     82\u001b[0m \u001b[39m    y_pred : array or indicator matrix\u001b[39;00m\n\u001b[0;32m     83\u001b[0m \u001b[39m    \"\"\"\u001b[39;00m\n\u001b[1;32m---> 84\u001b[0m     check_consistent_length(y_true, y_pred)\n\u001b[0;32m     85\u001b[0m     type_true \u001b[39m=\u001b[39m type_of_target(y_true, input_name\u001b[39m=\u001b[39m\u001b[39m\"\u001b[39m\u001b[39my_true\u001b[39m\u001b[39m\"\u001b[39m)\n\u001b[0;32m     86\u001b[0m     type_pred \u001b[39m=\u001b[39m type_of_target(y_pred, input_name\u001b[39m=\u001b[39m\u001b[39m\"\u001b[39m\u001b[39my_pred\u001b[39m\u001b[39m\"\u001b[39m)\n",
      "File \u001b[1;32mc:\\conda\\Lib\\site-packages\\sklearn\\utils\\validation.py:407\u001b[0m, in \u001b[0;36mcheck_consistent_length\u001b[1;34m(*arrays)\u001b[0m\n\u001b[0;32m    405\u001b[0m uniques \u001b[39m=\u001b[39m np\u001b[39m.\u001b[39munique(lengths)\n\u001b[0;32m    406\u001b[0m \u001b[39mif\u001b[39;00m \u001b[39mlen\u001b[39m(uniques) \u001b[39m>\u001b[39m \u001b[39m1\u001b[39m:\n\u001b[1;32m--> 407\u001b[0m     \u001b[39mraise\u001b[39;00m \u001b[39mValueError\u001b[39;00m(\n\u001b[0;32m    408\u001b[0m         \u001b[39m\"\u001b[39m\u001b[39mFound input variables with inconsistent numbers of samples: \u001b[39m\u001b[39m%r\u001b[39;00m\u001b[39m\"\u001b[39m\n\u001b[0;32m    409\u001b[0m         \u001b[39m%\u001b[39m [\u001b[39mint\u001b[39m(l) \u001b[39mfor\u001b[39;00m l \u001b[39min\u001b[39;00m lengths]\n\u001b[0;32m    410\u001b[0m     )\n",
      "\u001b[1;31mValueError\u001b[0m: Found input variables with inconsistent numbers of samples: [379, 380]"
     ]
    }
   ],
   "source": [
    "confusion_matrix_gen = confusion_matrix(truth_vector,prediction_vector, labels = labels)\n",
    "\n",
    "fig, ax = plot_confusion_matrix(\n",
    "    conf_mat=confusion_matrix_gen,\n",
    "    class_names=labels,\n",
    "    norm_colormap=plt.colors.LogNorm()\n",
    ")\n"
   ]
  },
  {
   "cell_type": "code",
   "execution_count": 11,
   "metadata": {},
   "outputs": [
    {
     "data": {
      "image/png": "[encoded data removed]",
      "text/plain": [
       "<Figure size 640x480 with 2 Axes>"
      ]
     },
     "metadata": {},
     "output_type": "display_data"
    }
   ],
   "source": [
    "gen_metrics_matrix = calc_metrics(confusion_matrix_gen, len(truth_vector))\n",
    "classes = [\"True\",\"False\"]\n",
    "\n",
    "fig1, ax1 = plot_confusion_matrix(\n",
    "    conf_mat=gen_metrics_matrix,\n",
    "    class_names=classes,\n",
    "    cmap= 'summer',\n",
    "    colorbar=True,\n",
    "    fontcolor_threshold=1,\n",
    "    hide_spines = True\n",
    ")"
   ]
  },
  {
   "cell_type": "code",
   "execution_count": null,
   "metadata": {},
   "outputs": [],
   "source": [
    "ukraine_data_path = \"../../data/selv-labeled-data/ValData/ukraine_val_text.txt\"\n",
    "ukraine_data_path2 = \"../../data/selv-labeled-data/ValData/ukraine_val_text2.txt\"\n",
    "ukraine_conll_path = \"../../data/selv-labeled-data/ValData/ukraine_val.conll\"\n",
    "ukraine_data = getValData(ukraine_data_path)\n",
    "ukraine_data2 = getValData(ukraine_data_path2)\n",
    "#####\n",
    "# Need to split data amount into 2 parts because of BERT limitation on input length   \n",
    "#####\n",
    "\n",
    "ukraine_truth = get_truth(ukraine_conll_path)\n",
    "#print(ukraine_truth.to_string())\n",
    "ukraine_truth_vector = ukraine_truth['ner_tags'].tolist()\n",
    "unique = set(ukraine_truth_vector)\n",
    "print(unique)\n",
    "\n",
    "ukraine_prediction_json = \"../inference/bertPredictionsB06V1.json\"\n",
    "ukraine_predictions = getPredictions(ukraine_prediction_json, data = ukraine_data)\n",
    "ukraine_prediction_vector = ukraine_predictions['ner_tags'].tolist()\n",
    "uk1_words = ukraine_predictions['words'].tolist()\n",
    "#print(ukraine_predictions.to_string())\n",
    "\n",
    "ukraine_prediction2_json = \"../inference/bertPredictionsB06V2.json\"\n",
    "ukraine_predictions2 = getPredictions(ukraine_prediction2_json, data = ukraine_data2)\n",
    "ukraine_prediction_vector2 = ukraine_predictions2['ner_tags'].tolist()\n",
    "uk2_words = ukraine_predictions2['words'].tolist()\n",
    "print(ukraine_predictions2.to_string())\n",
    "\n",
    "combined_vector = list(np.append(ukraine_prediction_vector,ukraine_prediction_vector2))\n",
    "\n",
    "uniques = set(ukraine_truth_vector)\n",
    "print(len(uniques))\n",
    "print(len(labels))\n",
    "uniques_2 = set(combined_vector)\n",
    "print(len(uniques_2))\n",
    "\n",
    "\n"
   ]
  },
  {
   "cell_type": "code",
   "execution_count": null,
   "metadata": {},
   "outputs": [],
   "source": [
    "confusion_matrix_ukraine = confusion_matrix(ukraine_truth_vector,combined_vector, labels = labels)\n",
    "\n",
    "fig, ax = plot_confusion_matrix(\n",
    "    conf_mat=confusion_matrix_ukraine,\n",
    "    class_names=labels,\n",
    "    norm_colormap=plt.colors.LogNorm()\n",
    ")"
   ]
  },
  {
   "cell_type": "code",
   "execution_count": null,
   "metadata": {},
   "outputs": [],
   "source": [
    "metrics_matrix = calc_metrics(confusion_matrix_ukraine, len(ukraine_truth_vector))\n",
    "classes = [\"True\",\"False\"]\n",
    "\n",
    "fig1, ax1 = plot_confusion_matrix(\n",
    "    conf_mat=metrics_matrix,\n",
    "    class_names=classes,\n",
    "    cmap= 'summer',\n",
    "    colorbar=True,\n",
    "    fontcolor_threshold=1,\n",
    "    hide_spines = True\n",
    ")"
   ]
  },
  {
   "cell_type": "code",
   "execution_count": null,
   "metadata": {},
   "outputs": [],
   "source": [
    "###VALIDATION FOR LLAMA2\n",
    "\n",
    "#Method name \"getTruth\" is a bad name, as the function is just used to read a conll file into datastructure.\n",
    "#Was initially intended to just read truth conll, hence the name. We should refactor the name\n",
    "Llama_pred_gen_path = \"../inference/Predictions/Llama2/L04/self_text_prediction.conll\"\n",
    "Llama_pred_ukraine_path = \"../inference/Predictions/Llama2/L04/ukraine_predicition.conll\"\n",
    "gen_conll_path = \"../../data/selv-labeled-data/ValData/valgen.conll\"\n",
    "ukraine_conll_path = \"../../data/selv-labeled-data/ValData/ukraine_val.conll\"\n",
    "predictionsLlamaGen = get_truth(Llama_pred_gen_path)\n",
    "predictionsLlamaUkraine = get_truth(Llama_pred_ukraine_path)\n",
    "truth_set = get_truth(gen_conll_path)\n",
    "ukraine_truth = get_truth(ukraine_conll_path)\n",
    "\n",
    "\n",
    "\n",
    "truth_vector = truth_set['ner_tags'].tolist()\n",
    "llamaGenVector  = predictionsLlamaGen['ner_tags'].tolist()\n",
    "llamaUkraineVector = predictionsLlamaUkraine['ner_tags'].tolist()\n",
    "ukraine_truth_vector = ukraine_truth['ner_tags'].tolist()\n",
    "\n",
    "\n"
   ]
  },
  {
   "cell_type": "code",
   "execution_count": null,
   "metadata": {},
   "outputs": [],
   "source": [
    "confusion_matrix_llama_gen = confusion_matrix(llamaGenVector,truth_vector, labels = labels)\n",
    "\n",
    "fig, ax = plot_confusion_matrix(\n",
    "    conf_mat=confusion_matrix_llama_gen,\n",
    "    class_names=labels,\n",
    "    norm_colormap=plt.colors.LogNorm()\n",
    ")\n"
   ]
  },
  {
   "cell_type": "code",
   "execution_count": null,
   "metadata": {},
   "outputs": [],
   "source": [
    "metrics_matrix = calc_metrics(confusion_matrix_llama_gen, len(truth_vector))\n",
    "classes = [\"True\",\"False\"]\n",
    "\n",
    "fig1, ax1 = plot_confusion_matrix(\n",
    "    conf_mat=metrics_matrix,\n",
    "    class_names=classes,\n",
    "    cmap= 'summer',\n",
    "    colorbar=True,\n",
    "    fontcolor_threshold=1,\n",
    "    hide_spines = True\n",
    ")"
   ]
  }
 ],
 "metadata": {
  "kernelspec": {
   "display_name": "Python 3",
   "language": "python",
   "name": "python3"
  },
  "language_info": {
   "codemirror_mode": {
    "name": "ipython",
    "version": 3
   },
   "file_extension": ".py",
   "mimetype": "text/x-python",
   "name": "python",
   "nbconvert_exporter": "python",
   "pygments_lexer": "ipython3",
   "version": "3.11.5"
  }
 },
 "nbformat": 4,
 "nbformat_minor": 2
}
